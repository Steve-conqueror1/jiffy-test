{
  "nbformat": 4,
  "nbformat_minor": 0,
  "metadata": {
    "colab": {
      "name": "non_fibonacci_numbers.ipynb",
      "provenance": [],
      "authorship_tag": "ABX9TyNiUR3z92rZdHiGux578Phd",
      "include_colab_link": true
    },
    "kernelspec": {
      "name": "python3",
      "display_name": "Python 3"
    },
    "language_info": {
      "name": "python"
    }
  },
  "cells": [
    {
      "cell_type": "markdown",
      "metadata": {
        "id": "view-in-github",
        "colab_type": "text"
      },
      "source": [
        "<a href=\"https://colab.research.google.com/github/Vankum100/jiffy-test/blob/main/non_fibonacci_numbers.ipynb\" target=\"_parent\"><img src=\"https://colab.research.google.com/assets/colab-badge.svg\" alt=\"Open In Colab\"/></a>"
      ]
    },
    {
      "cell_type": "markdown",
      "metadata": {
        "id": "7iKO69zEFzkn"
      },
      "source": [
        "### A2. (Не) Фибоначчи\n",
        "\n",
        "Числа Фибоначчи (https://ru.wikipedia.org/wiki/Числа_Фибоначчи) образуют \n",
        "неубывающую последовательность:\n",
        "\n",
        "0, 1, 1, 2, 3, 5, 8, 13, 21, ... \n",
        "\n",
        "Числами не Фибоначчи будем называть последовательность чисел, \n",
        "которые не входят в последовательность чисел Фибоначчи: \n",
        "\n",
        "4, 6, 7, 9, 10, 11, 12, 14, ...\n",
        "\n",
        "Требуется написать **бесконечный генератор** последовательности чисел не Фибоначчи.\n",
        "На вход подается число N, означающее количество чисел, которое необходимо вывести на вывод,\n",
        "каждое в отдельной строке."
      ]
    },
    {
      "cell_type": "code",
      "metadata": {
        "colab": {
          "base_uri": "https://localhost:8080/"
        },
        "id": "9LP22s-wF5sk",
        "outputId": "062ab844-5fed-488d-b625-9182dafd502f"
      },
      "source": [
        "def isFibonacci(value):\n",
        "  num1 = 0 \n",
        "  num2 = 1\n",
        "  if(value == num1 or value == num2):\n",
        "    return 1\n",
        "  while( num2 <= value):\n",
        "    temp = num2\n",
        "    num2 = num1 + num2\n",
        "    num1 = temp\n",
        "    if(num2 == value):\n",
        "      return 1\n",
        "  return 0\n",
        "\n",
        "\n",
        "def print_non_fibonacci(N):\n",
        "  for i in range(N):\n",
        "    if(not isFibonacci(i)):\n",
        "      print(i)\n",
        "\n",
        "N = int(input('Введите N: '))\n",
        "\n",
        "print_non_fibonacci(N)"
      ],
      "execution_count": 10,
      "outputs": [
        {
          "output_type": "stream",
          "text": [
            "Введите N: 15\n",
            "4\n",
            "6\n",
            "7\n",
            "9\n",
            "10\n",
            "11\n",
            "12\n",
            "14\n"
          ],
          "name": "stdout"
        }
      ]
    }
  ]
}