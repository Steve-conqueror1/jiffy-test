{
  "nbformat": 4,
  "nbformat_minor": 0,
  "metadata": {
    "colab": {
      "name": "non_fibonacci_numbers.ipynb",
      "provenance": [],
      "authorship_tag": "ABX9TyMnKi3YmUZqVqoS68tiJnv8",
      "include_colab_link": true
    },
    "kernelspec": {
      "name": "python3",
      "display_name": "Python 3"
    },
    "language_info": {
      "name": "python"
    }
  },
  "cells": [
    {
      "cell_type": "markdown",
      "metadata": {
        "id": "view-in-github",
        "colab_type": "text"
      },
      "source": [
        "<a href=\"https://colab.research.google.com/github/Vankum100/jiffy-test/blob/main/non_fibonacci_numbers.ipynb\" target=\"_parent\"><img src=\"https://colab.research.google.com/assets/colab-badge.svg\" alt=\"Open In Colab\"/></a>"
      ]
    },
    {
      "cell_type": "code",
      "metadata": {
        "colab": {
          "base_uri": "https://localhost:8080/"
        },
        "id": "9LP22s-wF5sk",
        "outputId": "2b77dc5c-0f91-4b7b-ac56-21470114c39b"
      },
      "source": [
        "def in_fibonacci(value):\n",
        "  prev = 0 \n",
        "  next = 1\n",
        "  if(value == prev or value == next):\n",
        "    return 1\n",
        "  while( next <= value):\n",
        "    temp = next\n",
        "    next = prev + next  \n",
        "    prev = temp  \n",
        "    if(next == value):\n",
        "      return 1\n",
        "  return 0\n",
        "# Сложность выполнения здесь экспоненциальна, O (2 ^ n)\n",
        "# Сложность памяти решения составляет O (n), \n",
        "# поскольку каждый вызов in_fobinacci() потребляет память в стеке.\n",
        "def print_non_fibonacci(N):\n",
        "  for i in range(N):\n",
        "    if(not in_fibonacci(i)):\n",
        "      print(i)\n",
        "\n",
        "N = int(input('Введите N: '))\n",
        "\n",
        "#print_non_fibonacci(N)\n",
        "\n",
        "\n",
        "\n",
        "# оптимальное по памяти и времени решение\n",
        "# Сложность выполнения решения линейна, O (n)\n",
        "# Сложность памяти решения постоянна O (1)\n",
        "def non_fibonacci_nums(value):\n",
        "  prev = 0 \n",
        "  next = 1\n",
        "  if(value == prev or value == next):\n",
        "    return \n",
        "  while( next <= value):\n",
        "    prev, next = next, prev + next    \n",
        "    for i in range(prev+1, next):\n",
        "      if i <= value:\n",
        "        print(i)\n",
        "      \n",
        "  return \n",
        "\n",
        "non_fibonacci_nums(N)"
      ],
      "execution_count": 51,
      "outputs": [
        {
          "output_type": "stream",
          "text": [
            "Введите N: 17\n",
            "4\n",
            "6\n",
            "7\n",
            "9\n",
            "10\n",
            "11\n",
            "12\n",
            "14\n",
            "15\n",
            "16\n",
            "17\n"
          ],
          "name": "stdout"
        }
      ]
    }
  ]
}