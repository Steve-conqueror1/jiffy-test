{
  "nbformat": 4,
  "nbformat_minor": 0,
  "metadata": {
    "colab": {
      "name": "non_fibonacci_numbers.ipynb",
      "provenance": [],
      "authorship_tag": "ABX9TyODx3DvbsEfrVgOfp3pmhJ8",
      "include_colab_link": true
    },
    "kernelspec": {
      "name": "python3",
      "display_name": "Python 3"
    },
    "language_info": {
      "name": "python"
    }
  },
  "cells": [
    {
      "cell_type": "markdown",
      "metadata": {
        "id": "view-in-github",
        "colab_type": "text"
      },
      "source": [
        "<a href=\"https://colab.research.google.com/github/Vankum100/jiffy-test/blob/main/non_fibonacci_numbers.ipynb\" target=\"_parent\"><img src=\"https://colab.research.google.com/assets/colab-badge.svg\" alt=\"Open In Colab\"/></a>"
      ]
    },
    {
      "cell_type": "markdown",
      "metadata": {
        "id": "MrG8BlQLuqkv"
      },
      "source": [
        "A2. (Не) Фибоначчи\n",
        "Числа Фибоначчи (https://ru.wikipedia.org/wiki/Числа_Фибоначчи) образуют неубывающую последовательность:\n",
        "\n",
        "0, 1, 1, 2, 3, 5, 8, 13, 21, ...\n",
        "\n",
        "Числами не Фибоначчи будем называть последовательность чисел, которые не входят в последовательность чисел Фибоначчи:\n",
        "\n",
        "4, 6, 7, 9, 10, 11, 12, 14, ...\n",
        "\n",
        "Требуется написать бесконечный генератор последовательности чисел не Фибоначчи. На вход подается число N, означающее количество чисел, которое необходимо вывести на вывод, каждое в отдельной строке.\n",
        "\n",
        "#### Пример\n",
        "Ввод\n",
        "```\n",
        "5\n",
        "```\n",
        "Вывод\n",
        "```\n",
        "4\n",
        "6\n",
        "7\n",
        "9\n",
        "10\n",
        "```\n"
      ]
    },
    {
      "cell_type": "code",
      "metadata": {
        "colab": {
          "base_uri": "https://localhost:8080/"
        },
        "id": "9LP22s-wF5sk",
        "outputId": "6f40086e-4a91-42bb-b19a-26c3f3ef7c08"
      },
      "source": [
        "\n",
        "\n",
        "N = int(input('Введите N: '))\n",
        "\n",
        "# оптимальное по памяти и времени решение\n",
        "# Сложность выполнения решения линейна, O (n)\n",
        "# Сложность памяти решения постоянна O (1)\n",
        "def non_fibonacci_nums(value):\n",
        "  prev = 0 \n",
        "  next = 1\n",
        "  if(value == prev or value == next):\n",
        "    return \n",
        "  while(value >= 0):\n",
        "    prev, next = next, prev + next    \n",
        "    for i in range(prev+1, next):\n",
        "      if(value == 0 ):\n",
        "        return \n",
        "      else:\n",
        "        print(i)\n",
        "        value -= 1\n",
        "      \n",
        "  return \n",
        "\n",
        "non_fibonacci_nums(N)"
      ],
      "execution_count": 63,
      "outputs": [
        {
          "output_type": "stream",
          "text": [
            "Введите N: 5\n",
            "4\n",
            "6\n",
            "7\n",
            "9\n",
            "10\n"
          ],
          "name": "stdout"
        }
      ]
    }
  ]
}