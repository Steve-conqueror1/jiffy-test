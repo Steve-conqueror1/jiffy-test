{
  "nbformat": 4,
  "nbformat_minor": 0,
  "metadata": {
    "colab": {
      "name": "non_fibonacci_numbers.ipynb",
      "provenance": [],
      "authorship_tag": "ABX9TyNE90DzzamjhGNELfuYrksB",
      "include_colab_link": true
    },
    "kernelspec": {
      "name": "python3",
      "display_name": "Python 3"
    },
    "language_info": {
      "name": "python"
    }
  },
  "cells": [
    {
      "cell_type": "markdown",
      "metadata": {
        "id": "view-in-github",
        "colab_type": "text"
      },
      "source": [
        "<a href=\"https://colab.research.google.com/github/Vankum100/jiffy-test/blob/main/node/task-A2/non_fibonacci_numbers.ipynb\" target=\"_parent\"><img src=\"https://colab.research.google.com/assets/colab-badge.svg\" alt=\"Open In Colab\"/></a>"
      ]
    },
    {
      "cell_type": "markdown",
      "metadata": {
        "id": "MrG8BlQLuqkv"
      },
      "source": [
        "A2. (Не) Фибоначчи\n",
        "Числа Фибоначчи (https://ru.wikipedia.org/wiki/Числа_Фибоначчи) образуют неубывающую последовательность:\n",
        "\n",
        "0, 1, 1, 2, 3, 5, 8, 13, 21, ...\n",
        "\n",
        "Числами не Фибоначчи будем называть последовательность чисел, которые не входят в последовательность чисел Фибоначчи:\n",
        "\n",
        "4, 6, 7, 9, 10, 11, 12, 14, ...\n",
        "\n",
        "Требуется написать бесконечный генератор последовательности чисел не Фибоначчи. На вход подается число N, означающее количество чисел, которое необходимо вывести на вывод, каждое в отдельной строке.\n",
        "\n",
        "#### Пример\n",
        "Ввод\n",
        "```\n",
        "5\n",
        "```\n",
        "Вывод\n",
        "```\n",
        "4\n",
        "6\n",
        "7\n",
        "9\n",
        "10\n",
        "```\n"
      ]
    },
    {
      "cell_type": "code",
      "metadata": {
        "colab": {
          "base_uri": "https://localhost:8080/"
        },
        "id": "9LP22s-wF5sk",
        "outputId": "16a54e8f-514a-4530-d887-33c08450b3c8"
      },
      "source": [
        "\n",
        "# оптимальное по времени решение\n",
        "# Сложность выполнения решения линейна, почти O(2n)\n",
        "# Сложность памяти решения постоянна скорее\n",
        "\n",
        "# этот решение основано на generators, yield и list comprehension \n",
        "def fibto(n):\n",
        "    a, b = 0, 1\n",
        "    while True:\n",
        "        if a >= n: break\n",
        "        yield a\n",
        "        a, b = b, a + b\n",
        "\n",
        "def usefib(n):\n",
        "    yield from fibto(n)\n",
        "    \n",
        "\n",
        "def gen_non_fi(n):\n",
        "  print('Вывод ')\n",
        "  print(*[elem for elem in range(n) if elem not in usefib(n)], sep= \"\\n\") \n",
        "   \n",
        "\n",
        "gen_non_fi(int(input('Ввод \\n'))) \n"
      ],
      "execution_count": 44,
      "outputs": [
        {
          "output_type": "stream",
          "text": [
            "Ввод \n",
            "20\n",
            "Вывод \n",
            "4\n",
            "6\n",
            "7\n",
            "9\n",
            "10\n",
            "11\n",
            "12\n",
            "14\n",
            "15\n",
            "16\n",
            "17\n",
            "18\n",
            "19\n"
          ],
          "name": "stdout"
        }
      ]
    }
  ]
}